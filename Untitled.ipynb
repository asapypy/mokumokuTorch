{
 "cells": [
  {
   "cell_type": "code",
   "execution_count": 1,
   "metadata": {},
   "outputs": [
    {
     "name": "stdout",
     "output_type": "stream",
     "text": [
      "/Users/asakawa/study/2018pytorch_lecture\r\n"
     ]
    }
   ],
   "source": [
    "!pwd"
   ]
  },
  {
   "cell_type": "code",
   "execution_count": 3,
   "metadata": {},
   "outputs": [
    {
     "name": "stdout",
     "output_type": "stream",
     "text": [
      "autograd_tutorial.py                neural_style_tutorial.py\r\n",
      "char_rnn_classification_tutorial.py numpy_extensions_tutorial.py\r\n",
      "char_rnn_generation_tutorial.py     seq2seq_translation_tutorial.py\r\n",
      "cifar10_tutorial.py                 spatial_transformer_tutorial.py\r\n",
      "data_loading_tutorial.py            tensor_tutorial.py\r\n",
      "data_parallel_tutorial.py           transfer_learning_tutorial.py\r\n",
      "neural_networks_tutorial.py\r\n"
     ]
    }
   ],
   "source": [
    "!ls *.py"
   ]
  },
  {
   "cell_type": "code",
   "execution_count": null,
   "metadata": {},
   "outputs": [],
   "source": []
  }
 ],
 "metadata": {
  "kernelspec": {
   "display_name": "Python 3",
   "language": "python",
   "name": "python3"
  },
  "language_info": {
   "codemirror_mode": {
    "name": "ipython",
    "version": 3
   },
   "file_extension": ".py",
   "mimetype": "text/x-python",
   "name": "python",
   "nbconvert_exporter": "python",
   "pygments_lexer": "ipython3",
   "version": "3.6.4"
  }
 },
 "nbformat": 4,
 "nbformat_minor": 2
}
